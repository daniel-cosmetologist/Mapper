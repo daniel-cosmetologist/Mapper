{
 "cells": [
  {
   "cell_type": "code",
   "execution_count": 1,
   "id": "b912d4f2-86b6-4fa6-b8aa-b8689804dee6",
   "metadata": {},
   "outputs": [
    {
     "data": {
      "text/html": [
       "\n",
       "        <iframe\n",
       "            width=\"100%\"\n",
       "            height=\"650\"\n",
       "            src=\"http://127.0.0.1:8053/\"\n",
       "            frameborder=\"0\"\n",
       "            allowfullscreen\n",
       "            \n",
       "        ></iframe>\n",
       "        "
      ],
      "text/plain": [
       "<IPython.lib.display.IFrame at 0x7ef7fc865990>"
      ]
     },
     "metadata": {},
     "output_type": "display_data"
    }
   ],
   "source": [
    "import dash\n",
    "from dash import html\n",
    "import dash_cytoscape as cyto\n",
    "import csv\n",
    "import networkx as nx\n",
    "from dash.dependencies import Input, Output\n",
    "\n",
    "app = dash.Dash(__name__)\n",
    "\n",
    "# Load data from CSV and build a NetworkX graph\n",
    "G_nx = nx.Graph()\n",
    "with open('mapper_graph_adjacency_list.csv', 'r') as file:\n",
    "    reader = csv.reader(file)\n",
    "    next(reader, None)  # Skip the header if present\n",
    "    for row in reader:\n",
    "        G_nx.add_edge(row[0], row[1])\n",
    "\n",
    "elements = [\n",
    "    {'data': {'id': node, 'label': node}} for node in G_nx.nodes()\n",
    "] + [\n",
    "    {'data': {'source': edge[0], 'target': edge[1]}} for edge in G_nx.edges()\n",
    "]\n",
    "\n",
    "stylesheet = [\n",
    "    {\n",
    "        'selector': 'node',\n",
    "        'style': {\n",
    "            'background-color': 'gray',\n",
    "            'label': 'data(label)',\n",
    "            'font-size': '1px',\n",
    "            'width': '3px',\n",
    "            'height': '3px'\n",
    "        }\n",
    "    },\n",
    "    {\n",
    "        'selector': 'node:selected',\n",
    "        'style': {\n",
    "            'background-color': 'red'\n",
    "        }\n",
    "    },\n",
    "    {\n",
    "        'selector': 'edge',\n",
    "        'style': {\n",
    "            'line-color': 'light-gray',\n",
    "            'width': 0.1\n",
    "        }\n",
    "    }\n",
    "]\n",
    "\n",
    "app.layout = html.Div([\n",
    "    cyto.Cytoscape(\n",
    "        id='cytoscape-graph',\n",
    "        elements=elements,\n",
    "        stylesheet=stylesheet,\n",
    "        layout={'name': 'cose'},\n",
    "        style={'width': '100%', 'height': '900px'},\n",
    "        boxSelectionEnabled=True\n",
    "    ),\n",
    "    html.Pre(id='selected-node-data', style={'padding-top': '20px'})\n",
    "])\n",
    "\n",
    "@app.callback(\n",
    "    Output('selected-node-data', 'children'),\n",
    "    [Input('cytoscape-graph', 'selectedNodeData')]\n",
    ")\n",
    "def display_selected_node_data(data):\n",
    "    if not data:\n",
    "        return \"No nodes selected\"\n",
    "    else:\n",
    "        selected_info = '\\n'.join([f\"{node['id']}\" for node in data])\n",
    "        return f\"Selected Nodes:\\n{selected_info}\"\n",
    "\n",
    "if __name__ == '__main__':\n",
    "    app.run_server(debug=True, port=8053)\n"
   ]
  },
  {
   "cell_type": "code",
   "execution_count": 2,
   "id": "244e5db1-c805-464a-9e64-6d43c873ec1f",
   "metadata": {},
   "outputs": [
    {
     "data": {
      "application/vnd.jupyter.widget-view+json": {
       "model_id": "8086e6963d424211934439fefc2c089e",
       "version_major": 2,
       "version_minor": 0
      },
      "text/plain": [
       "Textarea(value='', description='Node IDs:', layout=Layout(height='100px', width='300px'), placeholder='Type or…"
      ]
     },
     "metadata": {},
     "output_type": "display_data"
    },
    {
     "data": {
      "application/vnd.jupyter.widget-view+json": {
       "model_id": "c4a41f51f2f2425387559d82e6269d11",
       "version_major": 2,
       "version_minor": 0
      },
      "text/plain": [
       "Button(description='Show Data', style=ButtonStyle())"
      ]
     },
     "metadata": {},
     "output_type": "display_data"
    },
    {
     "data": {
      "application/vnd.jupyter.widget-view+json": {
       "model_id": "bdac87e308a74106909118b7eaa0a1c0",
       "version_major": 2,
       "version_minor": 0
      },
      "text/plain": [
       "Output()"
      ]
     },
     "metadata": {},
     "output_type": "display_data"
    }
   ],
   "source": [
    "import pandas as pd\n",
    "import ipywidgets as widgets\n",
    "from IPython.display import display, clear_output\n",
    "\n",
    "pd.set_option('display.max_rows', None)\n",
    "pd.set_option('display.max_columns', None)\n",
    "pd.set_option('display.max_colwidth', None)\n",
    "\n",
    "nodes_data_path = 'nodes_to_rows.csv'\n",
    "nodes_data = pd.read_csv(nodes_data_path)\n",
    "\n",
    "dataset_path = 'df_mular_median (1).csv'\n",
    "original_dataset = pd.read_csv(dataset_path)\n",
    "\n",
    "def show_rows(input_text):\n",
    "    try:\n",
    "        # Parsing the input from the TextArea widget\n",
    "        node_ids = input_text.split('\\n')  # Splits the input by newlines\n",
    "        all_rows_list = []\n",
    "        for node_id in node_ids:\n",
    "            node_id = node_id.strip()  # Removes any leading/trailing whitespace\n",
    "            if node_id:  # Checks if node_id is not empty\n",
    "                rows_str = nodes_data.loc[nodes_data['node_id'] == node_id, 'row_indices'].values[0]\n",
    "                rows_list = list(map(int, rows_str.split(',')))\n",
    "                all_rows_list.extend(rows_list)\n",
    "        \n",
    "        unique_rows_list = list(set(all_rows_list))\n",
    "        selected_rows = original_dataset.iloc[unique_rows_list]\n",
    "        clear_output(wait=True)\n",
    "        display(selected_rows)\n",
    "    except Exception as e:\n",
    "        clear_output(wait=True)\n",
    "        print(f\"An error occurred: {e}\")\n",
    "\n",
    "# TextArea widget for node IDs input\n",
    "node_id_input = widgets.Textarea(\n",
    "    value='',\n",
    "    placeholder='Type or paste node IDs here, each on a new line',\n",
    "    description='Node IDs:',\n",
    "    disabled=False,\n",
    "    layout=widgets.Layout(width='300px', height='100px')\n",
    ")\n",
    "\n",
    "# Button to trigger data display\n",
    "button = widgets.Button(description=\"Show Data\")\n",
    "\n",
    "# Output widget to display selected data or errors\n",
    "output = widgets.Output()\n",
    "\n",
    "def on_button_clicked(b):\n",
    "    with output:\n",
    "        show_rows(node_id_input.value)\n",
    "\n",
    "button.on_click(on_button_clicked)\n",
    "\n",
    "# Displaying the widgets\n",
    "display(node_id_input, button, output)\n"
   ]
  },
  {
   "cell_type": "code",
   "execution_count": null,
   "id": "eb1de214-8283-479b-b9dd-7297ffdbd974",
   "metadata": {},
   "outputs": [],
   "source": []
  }
 ],
 "metadata": {
  "kernelspec": {
   "display_name": "Python 3 (ipykernel)",
   "language": "python",
   "name": "python3"
  },
  "language_info": {
   "codemirror_mode": {
    "name": "ipython",
    "version": 3
   },
   "file_extension": ".py",
   "mimetype": "text/x-python",
   "name": "python",
   "nbconvert_exporter": "python",
   "pygments_lexer": "ipython3",
   "version": "3.10.12"
  }
 },
 "nbformat": 4,
 "nbformat_minor": 5
}
