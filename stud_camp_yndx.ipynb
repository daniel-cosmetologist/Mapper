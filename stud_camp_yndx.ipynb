{
 "cells": [
  {
   "cell_type": "code",
   "execution_count": 1,
   "metadata": {},
   "outputs": [],
   "source": [
    "import numpy as np"
   ]
  },
  {
   "cell_type": "code",
   "execution_count": 6,
   "metadata": {},
   "outputs": [
    {
     "name": "stdout",
     "output_type": "stream",
     "text": [
      "1\n"
     ]
    }
   ],
   "source": [
    "from collections import Counter\n",
    "#input()\n",
    "#arr = [int(x) for x in input().split()]\n",
    "arr = [4,4,4, 5, 5,5]\n",
    "if len(arr)==0:\n",
    "    print()\n",
    "else:\n",
    "    c = Counter(arr)\n",
    "    print(c.most_common(1)[0][0])"
   ]
  },
  {
   "cell_type": "code",
   "execution_count": 15,
   "metadata": {},
   "outputs": [
    {
     "name": "stdout",
     "output_type": "stream",
     "text": [
      "5\n"
     ]
    }
   ],
   "source": [
    "arr = [4,4,4, 5, 5,5, 6]\n",
    "count = {}\n",
    "for i in arr:\n",
    "\tcount[i] = count.get(i, 0) + 1\n",
    "    \n",
    "max_count = max(count.values())\n",
    "max_numbers = [num for num, freq in count.items() if freq == max_count]\n",
    "print(max(max_numbers))"
   ]
  },
  {
   "cell_type": "code",
   "execution_count": 13,
   "metadata": {},
   "outputs": [
    {
     "name": "stdout",
     "output_type": "stream",
     "text": [
      "[4, 5]\n",
      "4\n"
     ]
    }
   ],
   "source": [
    "c = dict()\n",
    "\n",
    "for i in arr:\n",
    "    c[i] = c.get(i, 0) + 1\n",
    "    \n",
    "\n",
    "print(c)  \n",
    "\n",
    "# Выводим ключ, которому соответствует наибольшее из значений\n",
    "# (точнее, один из таких ключей)\n",
    "print(max(c.items(), key=lambda item: item[1])[0])"
   ]
  },
  {
   "cell_type": "code",
   "execution_count": null,
   "metadata": {},
   "outputs": [],
   "source": [
    "def find_most_frequent_max_number(a):\n",
    "    \n",
    "    count = {}\n",
    "    for i in a:\n",
    "        count[i] = count.get(i, 0) + 1\n",
    "    \n",
    "    max_count = max(count.values())\n",
    "    max_numbers = [num for num, freq in count.items() if freq == max_count]\n",
    "    return max(max_numbers)\n",
    "\n",
    "# Пример использования функции\n",
    "a = [1, 3, 3, 3, 2, 2, 2, 4, 4, 4, 4]\n",
    "print(find_most_frequent_max_number(a))"
   ]
  },
  {
   "cell_type": "code",
   "execution_count": 20,
   "metadata": {},
   "outputs": [
    {
     "name": "stdout",
     "output_type": "stream",
     "text": [
      "1 2\n",
      "1 3\n",
      "2 3\n",
      "3 4\n",
      "4 1\n",
      "4 3\n"
     ]
    }
   ],
   "source": [
    "def is_palindrome(s):\n",
    "    return s == s[::-1]\n",
    "\n",
    "n = int(input())\n",
    "words = []\n",
    "for _ in range(n):\n",
    "    words.append(input())\n",
    "\n",
    "pairs = []\n",
    "for i, word1 in enumerate(words):\n",
    "    for j, word2 in enumerate(words):\n",
    "        if i != j and is_palindrome(word1 + word2):\n",
    "            pairs.append((i + 1, j + 1))\n",
    "\n",
    "for pair in pairs:\n",
    "    print(pair[0], pair[1])\n"
   ]
  },
  {
   "cell_type": "code",
   "execution_count": 21,
   "metadata": {},
   "outputs": [
    {
     "name": "stdout",
     "output_type": "stream",
     "text": [
      "1 1\n",
      "1 2\n",
      "1 3\n",
      "2 3\n",
      "3 4\n",
      "4 1\n",
      "4 3\n"
     ]
    }
   ],
   "source": [
    "def generate_prefixes_suffixes(word):\n",
    "    \"\"\"Генерирует все возможные префиксы и суффиксы для слова.\"\"\"\n",
    "    for i in range(len(word) + 1):\n",
    "        yield word[:i], word[i:]\n",
    "\n",
    "def is_palindrome(s):\n",
    "    \"\"\"Проверяет, является ли строка палиндромом.\"\"\"\n",
    "    return s == s[::-1]\n",
    "\n",
    "def find_palindrome_pairs(words):\n",
    "    \"\"\"Находит пары индексов, которые при конкатенации образуют палиндром.\"\"\"\n",
    "    word_to_index = {word: i for i, word in enumerate(words)}\n",
    "    pairs = set()\n",
    "    \n",
    "    for i, word in enumerate(words):\n",
    "        reversed_word = word[::-1]\n",
    "        \n",
    "        # Если обратное слово существует и не является текущим словом\n",
    "        if reversed_word in word_to_index and word_to_index[reversed_word] != i:\n",
    "            pairs.add((i + 1, word_to_index[reversed_word] + 1))\n",
    "        \n",
    "        for prefix, suffix in generate_prefixes_suffixes(word):\n",
    "            # Если префикс - палиндром, ищем обратный суффикс\n",
    "            if is_palindrome(prefix):\n",
    "                reversed_suffix = suffix[::-1]\n",
    "                if reversed_suffix in word_to_index:\n",
    "                    pairs.add((word_to_index[reversed_suffix] + 1, i + 1))\n",
    "            # Если суффикс - палиндром, ищем обратный префикс\n",
    "            if is_palindrome(suffix):\n",
    "                reversed_prefix = prefix[::-1]\n",
    "                if reversed_prefix in word_to_index:\n",
    "                    pairs.add((i + 1, word_to_index[reversed_prefix] + 1))\n",
    "    \n",
    "    return pairs\n",
    "\n",
    "# Пример использования\n",
    "words = [\"a\", \"abbaa\", \"bba\", \"abb\"]\n",
    "pairs = find_palindrome_pairs(words)\n",
    "for pair in sorted(pairs):\n",
    "    print(pair[0], pair[1])\n"
   ]
  },
  {
   "cell_type": "code",
   "execution_count": 22,
   "metadata": {},
   "outputs": [
    {
     "name": "stdout",
     "output_type": "stream",
     "text": [
      "1 2\n",
      "1 3\n",
      "2 3\n",
      "3 4\n",
      "4 1\n",
      "4 3\n"
     ]
    }
   ],
   "source": [
    "n = int(input())\n",
    "words = []\n",
    "for _ in range(n):\n",
    "    words.append(input())\n",
    "\n",
    "\n",
    "word_to_index = {word: i for i, word in enumerate(words)}\n",
    "pairs = set()\n",
    "\n",
    "for i, word in enumerate(words):\n",
    "    reversed_word = word[::-1]\n",
    "\n",
    "    if reversed_word in word_to_index and word_to_index[reversed_word] != i:\n",
    "        pairs.add((i + 1, word_to_index[reversed_word] + 1))\n",
    "    \n",
    "    for prefix, suffix in generate_prefixes_suffixes(word):\n",
    "\n",
    "        if is_palindrome(prefix) and suffix:\n",
    "            reversed_suffix = suffix[::-1]\n",
    "            if reversed_suffix in word_to_index and word_to_index[reversed_suffix] != i:\n",
    "                pairs.add((word_to_index[reversed_suffix] + 1, i + 1))\n",
    "                \n",
    "        if is_palindrome(suffix) and prefix:\n",
    "            reversed_prefix = prefix[::-1]\n",
    "            if reversed_prefix in word_to_index and word_to_index[reversed_prefix] != i:\n",
    "                pairs.add((i + 1, word_to_index[reversed_prefix] + 1))\n",
    "\n",
    "\n",
    "for pair in sorted(pairs):\n",
    "    print(pair[0], pair[1])\n"
   ]
  },
  {
   "cell_type": "code",
   "execution_count": 26,
   "metadata": {},
   "outputs": [
    {
     "name": "stdout",
     "output_type": "stream",
     "text": [
      "3\n"
     ]
    }
   ],
   "source": [
    "def count_hooks(young_diagram, k, current_row=0, removed=0):\n",
    "    if removed == k:\n",
    "        return 1\n",
    "    if removed > k or current_row >= len(young_diagram):\n",
    "        return 0\n",
    "    \n",
    "    count = 0\n",
    "    for cells_to_remove in range(young_diagram[current_row] + 1):\n",
    "        if current_row + 1 < len(young_diagram) and cells_to_remove > young_diagram[current_row + 1]:\n",
    "            break  # Нельзя удалять больше клеток, чем в следующей строке\n",
    "        count += count_hooks(young_diagram, k, current_row + 1, removed + cells_to_remove)\n",
    "    \n",
    "    return count\n",
    "\n",
    "# Пример использования:\n",
    "# Для диаграммы с четырьмя строками, где максимальная длина строки равна 5, и мы ищем крюк длины k\n",
    "\n",
    "# number_of_rows, k = map(int, input().split())\n",
    "# young_diagram = []\n",
    "# for _ in range(number_of_rows):\n",
    "#     young_diagram.append(int(input()))\n",
    "\n",
    "\n",
    "# Пример1\n",
    "number_of_rows, k = 3, 5\n",
    "young_diagram = [5,4,1]\n",
    "\n",
    "# # Пример2\n",
    "# number_of_rows, k = 6, 1\n",
    "# young_diagram = [4,4,3,2,2,1]\n",
    "\n",
    "hooks_count = count_hooks(young_diagram, k)\n",
    "print(hooks_count)\n"
   ]
  },
  {
   "cell_type": "code",
   "execution_count": 28,
   "metadata": {},
   "outputs": [
    {
     "ename": "KeyboardInterrupt",
     "evalue": "",
     "output_type": "error",
     "traceback": [
      "\u001b[0;31m---------------------------------------------------------------------------\u001b[0m",
      "\u001b[0;31mKeyboardInterrupt\u001b[0m                         Traceback (most recent call last)",
      "\u001b[1;32m/home/djden/Development/Science/Mapper/test_project_1/stud_camp_yndx.ipynb Cell 10\u001b[0m line \u001b[0;36m3\n\u001b[1;32m     <a href='vscode-notebook-cell:/home/djden/Development/Science/Mapper/test_project_1/stud_camp_yndx.ipynb#X12sZmlsZQ%3D%3D?line=33'>34</a>\u001b[0m \u001b[39mwith\u001b[39;00m \u001b[39mopen\u001b[39m(\u001b[39m'\u001b[39m\u001b[39manswer.txt\u001b[39m\u001b[39m'\u001b[39m, \u001b[39m'\u001b[39m\u001b[39mw\u001b[39m\u001b[39m'\u001b[39m, encoding\u001b[39m=\u001b[39m\u001b[39m'\u001b[39m\u001b[39mutf-8\u001b[39m\u001b[39m'\u001b[39m) \u001b[39mas\u001b[39;00m f:\n\u001b[1;32m     <a href='vscode-notebook-cell:/home/djden/Development/Science/Mapper/test_project_1/stud_camp_yndx.ipynb#X12sZmlsZQ%3D%3D?line=34'>35</a>\u001b[0m     \u001b[39mfor\u001b[39;00m query \u001b[39min\u001b[39;00m queries:\n\u001b[0;32m---> <a href='vscode-notebook-cell:/home/djden/Development/Science/Mapper/test_project_1/stud_camp_yndx.ipynb#X12sZmlsZQ%3D%3D?line=35'>36</a>\u001b[0m         correction \u001b[39m=\u001b[39m correct_word(query, dictionary)\n\u001b[1;32m     <a href='vscode-notebook-cell:/home/djden/Development/Science/Mapper/test_project_1/stud_camp_yndx.ipynb#X12sZmlsZQ%3D%3D?line=36'>37</a>\u001b[0m         f\u001b[39m.\u001b[39mwrite(correction \u001b[39m+\u001b[39m \u001b[39m'\u001b[39m\u001b[39m\\n\u001b[39;00m\u001b[39m'\u001b[39m)\n",
      "\u001b[1;32m/home/djden/Development/Science/Mapper/test_project_1/stud_camp_yndx.ipynb Cell 10\u001b[0m line \u001b[0;36m2\n\u001b[1;32m     <a href='vscode-notebook-cell:/home/djden/Development/Science/Mapper/test_project_1/stud_camp_yndx.ipynb#X12sZmlsZQ%3D%3D?line=16'>17</a>\u001b[0m     \u001b[39mreturn\u001b[39;00m \u001b[39mf\u001b[39m\u001b[39m'\u001b[39m\u001b[39m{\u001b[39;00mword\u001b[39m}\u001b[39;00m\u001b[39m 1 \u001b[39m\u001b[39m'\u001b[39m \u001b[39m+\u001b[39m \u001b[39m'\u001b[39m\u001b[39m \u001b[39m\u001b[39m'\u001b[39m\u001b[39m.\u001b[39mjoin(candidates1)\n\u001b[1;32m     <a href='vscode-notebook-cell:/home/djden/Development/Science/Mapper/test_project_1/stud_camp_yndx.ipynb#X12sZmlsZQ%3D%3D?line=18'>19</a>\u001b[0m candidates2 \u001b[39m=\u001b[39m (e2 \u001b[39mfor\u001b[39;00m e1 \u001b[39min\u001b[39;00m edits1 \u001b[39mfor\u001b[39;00m e2 \u001b[39min\u001b[39;00m generate_edits(e1) \u001b[39mif\u001b[39;00m e2 \u001b[39min\u001b[39;00m dictionary)\n\u001b[0;32m---> <a href='vscode-notebook-cell:/home/djden/Development/Science/Mapper/test_project_1/stud_camp_yndx.ipynb#X12sZmlsZQ%3D%3D?line=19'>20</a>\u001b[0m correct_words \u001b[39m=\u001b[39m \u001b[39mset\u001b[39m(candidates2)\n\u001b[1;32m     <a href='vscode-notebook-cell:/home/djden/Development/Science/Mapper/test_project_1/stud_camp_yndx.ipynb#X12sZmlsZQ%3D%3D?line=20'>21</a>\u001b[0m \u001b[39mif\u001b[39;00m correct_words:\n\u001b[1;32m     <a href='vscode-notebook-cell:/home/djden/Development/Science/Mapper/test_project_1/stud_camp_yndx.ipynb#X12sZmlsZQ%3D%3D?line=21'>22</a>\u001b[0m     \u001b[39mreturn\u001b[39;00m \u001b[39mf\u001b[39m\u001b[39m'\u001b[39m\u001b[39m{\u001b[39;00mword\u001b[39m}\u001b[39;00m\u001b[39m 2 \u001b[39m\u001b[39m'\u001b[39m \u001b[39m+\u001b[39m \u001b[39m'\u001b[39m\u001b[39m \u001b[39m\u001b[39m'\u001b[39m\u001b[39m.\u001b[39mjoin(correct_words)\n",
      "\u001b[1;32m/home/djden/Development/Science/Mapper/test_project_1/stud_camp_yndx.ipynb Cell 10\u001b[0m line \u001b[0;36m1\n\u001b[1;32m     <a href='vscode-notebook-cell:/home/djden/Development/Science/Mapper/test_project_1/stud_camp_yndx.ipynb#X12sZmlsZQ%3D%3D?line=15'>16</a>\u001b[0m \u001b[39mif\u001b[39;00m candidates1:\n\u001b[1;32m     <a href='vscode-notebook-cell:/home/djden/Development/Science/Mapper/test_project_1/stud_camp_yndx.ipynb#X12sZmlsZQ%3D%3D?line=16'>17</a>\u001b[0m     \u001b[39mreturn\u001b[39;00m \u001b[39mf\u001b[39m\u001b[39m'\u001b[39m\u001b[39m{\u001b[39;00mword\u001b[39m}\u001b[39;00m\u001b[39m 1 \u001b[39m\u001b[39m'\u001b[39m \u001b[39m+\u001b[39m \u001b[39m'\u001b[39m\u001b[39m \u001b[39m\u001b[39m'\u001b[39m\u001b[39m.\u001b[39mjoin(candidates1)\n\u001b[0;32m---> <a href='vscode-notebook-cell:/home/djden/Development/Science/Mapper/test_project_1/stud_camp_yndx.ipynb#X12sZmlsZQ%3D%3D?line=18'>19</a>\u001b[0m candidates2 \u001b[39m=\u001b[39m (e2 \u001b[39mfor\u001b[39;00m e1 \u001b[39min\u001b[39;00m edits1 \u001b[39mfor\u001b[39;00m e2 \u001b[39min\u001b[39;00m generate_edits(e1) \u001b[39mif\u001b[39;00m e2 \u001b[39min\u001b[39;00m dictionary)\n\u001b[1;32m     <a href='vscode-notebook-cell:/home/djden/Development/Science/Mapper/test_project_1/stud_camp_yndx.ipynb#X12sZmlsZQ%3D%3D?line=19'>20</a>\u001b[0m correct_words \u001b[39m=\u001b[39m \u001b[39mset\u001b[39m(candidates2)\n\u001b[1;32m     <a href='vscode-notebook-cell:/home/djden/Development/Science/Mapper/test_project_1/stud_camp_yndx.ipynb#X12sZmlsZQ%3D%3D?line=20'>21</a>\u001b[0m \u001b[39mif\u001b[39;00m correct_words:\n",
      "\u001b[0;31mKeyboardInterrupt\u001b[0m: "
     ]
    }
   ],
   "source": [
    "def generate_edits(word):\n",
    "    letters    = 'абвгдеёжзийклмнопрстуфхцчшщъыьэюя'\n",
    "    splits     = [(word[:i], word[i:]) for i in range(len(word) + 1)]\n",
    "    deletes    = [L + R[1:] for L, R in splits if R]\n",
    "    transposes = [L + R[1] + R[0] + R[2:] for L, R in splits if len(R)>1]\n",
    "    replaces   = [L + c + R[1:] for L, R in splits if R for c in letters]\n",
    "    inserts    = [L + c + R for L, R in splits for c in letters]\n",
    "    return set(deletes + transposes + replaces + inserts)\n",
    "\n",
    "def correct_word(word, dictionary):\n",
    "    if word in dictionary:\n",
    "        return f'{word} 0'\n",
    "    \n",
    "    edits1 = generate_edits(word)\n",
    "    candidates1 = edits1 & dictionary\n",
    "    if candidates1:\n",
    "        return f'{word} 1 ' + ' '.join(candidates1)\n",
    "    \n",
    "    candidates2 = (e2 for e1 in edits1 for e2 in generate_edits(e1) if e2 in dictionary)\n",
    "    correct_words = set(candidates2)\n",
    "    if correct_words:\n",
    "        return f'{word} 2 ' + ' '.join(correct_words)\n",
    "    \n",
    "    return f'{word} 3+'\n",
    "\n",
    "# Загрузка словаря\n",
    "with open('dict.txt', 'r', encoding='utf-8') as f:\n",
    "    dictionary = set(f.read().splitlines())\n",
    "\n",
    "# Обработка запросов и запись ответов\n",
    "with open('queries.txt', 'r', encoding='utf-8') as f:\n",
    "    queries = f.read().splitlines()\n",
    "\n",
    "with open('answer.txt', 'w', encoding='utf-8') as f:\n",
    "    for query in queries:\n",
    "        correction = correct_word(query, dictionary)\n",
    "        f.write(correction + '\\n')\n"
   ]
  }
 ],
 "metadata": {
  "kernelspec": {
   "display_name": ".venv",
   "language": "python",
   "name": "python3"
  },
  "language_info": {
   "codemirror_mode": {
    "name": "ipython",
    "version": 3
   },
   "file_extension": ".py",
   "mimetype": "text/x-python",
   "name": "python",
   "nbconvert_exporter": "python",
   "pygments_lexer": "ipython3",
   "version": "3.11.8"
  }
 },
 "nbformat": 4,
 "nbformat_minor": 2
}
